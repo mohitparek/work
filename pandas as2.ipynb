{
 "cells": [
  {
   "cell_type": "code",
   "execution_count": 23,
   "id": "75dbe374",
   "metadata": {},
   "outputs": [],
   "source": [
    "# q1\n",
    "\n",
    "# drop:\n",
    "# df.drop('a',axis=0,inplace=True)\n",
    "\n",
    "# merge:\n",
    "# dp.describe()\n",
    "\n",
    "# append:\n",
    "# df.append(dk)\n",
    "\n",
    "#reset_index():\n",
    "# dk.reset_index()\n",
    "\n",
    "# concate:\n",
    "# pd.concat([df,dk])"
   ]
  },
  {
   "cell_type": "code",
   "execution_count": 238,
   "id": "190efb77",
   "metadata": {},
   "outputs": [
    {
     "name": "stdout",
     "output_type": "stream",
     "text": [
      "    A   B   C\n",
      "1  10  40  70\n",
      "3  20  50  80\n",
      "5  30  60  90\n"
     ]
    }
   ],
   "source": [
    "# q2\n",
    "# import pandas as pd\n",
    "\n",
    "# def reindex_with_custom_increment(df):\n",
    "#     new_index = pd.Index(range(1, 2 * len(df) + 1, 2)) \n",
    "#     df.index = new_index \n",
    "# data = {'A': [10, 20, 30], 'B': [40, 50, 60], 'C': [70, 80, 90]}\n",
    "# df = pd.DataFrame(data)\n",
    "# reindex_with_custom_increment(df)\n",
    "# print(df)\n"
   ]
  },
  {
   "cell_type": "code",
   "execution_count": 115,
   "id": "9182d3c3",
   "metadata": {},
   "outputs": [
    {
     "name": "stdout",
     "output_type": "stream",
     "text": [
      "6\n"
     ]
    }
   ],
   "source": [
    "#q3\n",
    "# import pandas as pd\n",
    "# df=pd.DataFrame({'values':[1,2,3,4,5,6,7,8]})\n",
    "# def sum(df):\n",
    "#     print(df.head(3)['values'].sum())\n",
    "# sum(df)\n"
   ]
  },
  {
   "cell_type": "code",
   "execution_count": 104,
   "id": "589a5bd1",
   "metadata": {},
   "outputs": [
    {
     "data": {
      "text/html": [
       "<div>\n",
       "<style scoped>\n",
       "    .dataframe tbody tr th:only-of-type {\n",
       "        vertical-align: middle;\n",
       "    }\n",
       "\n",
       "    .dataframe tbody tr th {\n",
       "        vertical-align: top;\n",
       "    }\n",
       "\n",
       "    .dataframe thead th {\n",
       "        text-align: right;\n",
       "    }\n",
       "</style>\n",
       "<table border=\"1\" class=\"dataframe\">\n",
       "  <thead>\n",
       "    <tr style=\"text-align: right;\">\n",
       "      <th></th>\n",
       "      <th>text</th>\n",
       "      <th>Word_Count</th>\n",
       "    </tr>\n",
       "  </thead>\n",
       "  <tbody>\n",
       "    <tr>\n",
       "      <th>0</th>\n",
       "      <td>my</td>\n",
       "      <td>2</td>\n",
       "    </tr>\n",
       "    <tr>\n",
       "      <th>1</th>\n",
       "      <td>name</td>\n",
       "      <td>4</td>\n",
       "    </tr>\n",
       "    <tr>\n",
       "      <th>2</th>\n",
       "      <td>is</td>\n",
       "      <td>2</td>\n",
       "    </tr>\n",
       "    <tr>\n",
       "      <th>3</th>\n",
       "      <td>khan</td>\n",
       "      <td>4</td>\n",
       "    </tr>\n",
       "  </tbody>\n",
       "</table>\n",
       "</div>"
      ],
      "text/plain": [
       "   text  Word_Count\n",
       "0    my           2\n",
       "1  name           4\n",
       "2    is           2\n",
       "3  khan           4"
      ]
     },
     "execution_count": 104,
     "metadata": {},
     "output_type": "execute_result"
    }
   ],
   "source": [
    "# q4\n",
    "# df=pd.DataFrame({'text':['my','name','is','khan']})\n",
    "# df['Word_Count']=df['text'].apply(lambda x:len(x))\n",
    "# df"
   ]
  },
  {
   "cell_type": "code",
   "execution_count": null,
   "id": "01e5c99a",
   "metadata": {},
   "outputs": [],
   "source": [
    "# q5\n",
    "# DataFrame.size gives the total number of elements in the DataFrame (rows * columns).\n",
    "#     DataFrame.shape gives a tuple representing the dimensions of the DataFrame in terms of rows and columns."
   ]
  },
  {
   "cell_type": "code",
   "execution_count": null,
   "id": "bef46048",
   "metadata": {},
   "outputs": [],
   "source": [
    "# q6\n",
    "# df1=read_excel(\"file.xlsx\")"
   ]
  },
  {
   "cell_type": "code",
   "execution_count": 138,
   "id": "909430ac",
   "metadata": {},
   "outputs": [
    {
     "data": {
      "text/html": [
       "<div>\n",
       "<style scoped>\n",
       "    .dataframe tbody tr th:only-of-type {\n",
       "        vertical-align: middle;\n",
       "    }\n",
       "\n",
       "    .dataframe tbody tr th {\n",
       "        vertical-align: top;\n",
       "    }\n",
       "\n",
       "    .dataframe thead th {\n",
       "        text-align: right;\n",
       "    }\n",
       "</style>\n",
       "<table border=\"1\" class=\"dataframe\">\n",
       "  <thead>\n",
       "    <tr style=\"text-align: right;\">\n",
       "      <th></th>\n",
       "      <th>email</th>\n",
       "      <th>username</th>\n",
       "    </tr>\n",
       "  </thead>\n",
       "  <tbody>\n",
       "    <tr>\n",
       "      <th>0</th>\n",
       "      <td>prk@gmail.com</td>\n",
       "      <td>prk</td>\n",
       "    </tr>\n",
       "    <tr>\n",
       "      <th>1</th>\n",
       "      <td>sudh@gamil.com</td>\n",
       "      <td>sudh</td>\n",
       "    </tr>\n",
       "    <tr>\n",
       "      <th>2</th>\n",
       "      <td>rohit@gmail.com</td>\n",
       "      <td>rohit</td>\n",
       "    </tr>\n",
       "    <tr>\n",
       "      <th>3</th>\n",
       "      <td>khan@gmail.com</td>\n",
       "      <td>khan</td>\n",
       "    </tr>\n",
       "  </tbody>\n",
       "</table>\n",
       "</div>"
      ],
      "text/plain": [
       "             email username\n",
       "0    prk@gmail.com      prk\n",
       "1   sudh@gamil.com     sudh\n",
       "2  rohit@gmail.com    rohit\n",
       "3   khan@gmail.com     khan"
      ]
     },
     "execution_count": 138,
     "metadata": {},
     "output_type": "execute_result"
    }
   ],
   "source": [
    "# q7\n",
    "# def usern(x):\n",
    "#     a=''\n",
    "#     for i in (x):\n",
    "#         if i=='@':\n",
    "#             break\n",
    "#         else:\n",
    "#             a=a+i\n",
    "#     return a\n",
    "            \n",
    "# df=pd.DataFrame({'email':['prk@gmail.com','sudh@gamil.com','rohit@gmail.com','khan@gmail.com']})\n",
    "# df['username']=df['email'].apply(usern)\n",
    "# df\n",
    "\n"
   ]
  },
  {
   "cell_type": "code",
   "execution_count": 145,
   "id": "02d21e97",
   "metadata": {},
   "outputs": [
    {
     "data": {
      "text/html": [
       "<div>\n",
       "<style scoped>\n",
       "    .dataframe tbody tr th:only-of-type {\n",
       "        vertical-align: middle;\n",
       "    }\n",
       "\n",
       "    .dataframe tbody tr th {\n",
       "        vertical-align: top;\n",
       "    }\n",
       "\n",
       "    .dataframe thead th {\n",
       "        text-align: right;\n",
       "    }\n",
       "</style>\n",
       "<table border=\"1\" class=\"dataframe\">\n",
       "  <thead>\n",
       "    <tr style=\"text-align: right;\">\n",
       "      <th></th>\n",
       "      <th>a</th>\n",
       "      <th>b</th>\n",
       "      <th>c</th>\n",
       "    </tr>\n",
       "  </thead>\n",
       "  <tbody>\n",
       "    <tr>\n",
       "      <th>1</th>\n",
       "      <td>8</td>\n",
       "      <td>2</td>\n",
       "      <td>7</td>\n",
       "    </tr>\n",
       "    <tr>\n",
       "      <th>2</th>\n",
       "      <td>6</td>\n",
       "      <td>9</td>\n",
       "      <td>4</td>\n",
       "    </tr>\n",
       "    <tr>\n",
       "      <th>4</th>\n",
       "      <td>9</td>\n",
       "      <td>1</td>\n",
       "      <td>2</td>\n",
       "    </tr>\n",
       "  </tbody>\n",
       "</table>\n",
       "</div>"
      ],
      "text/plain": [
       "   a  b  c\n",
       "1  8  2  7\n",
       "2  6  9  4\n",
       "4  9  1  2"
      ]
     },
     "execution_count": 145,
     "metadata": {},
     "output_type": "execute_result"
    }
   ],
   "source": [
    "# q8\n",
    "# import pandas as pd\n",
    "# df=pd.DataFrame({'a':[3,8,6,2,9],'b':[5,2,9,3,1],'c':[1,7,4,5,2]})\n",
    "# df[(df['a']>5) & (df['b']<10)]"
   ]
  },
  {
   "cell_type": "code",
   "execution_count": 151,
   "id": "f07e6cc0",
   "metadata": {},
   "outputs": [
    {
     "name": "stdout",
     "output_type": "stream",
     "text": [
      "4.5\n",
      "4.5\n",
      "2.449489742783178\n"
     ]
    }
   ],
   "source": [
    "# q9\n",
    "# import pandas as pd\n",
    "# df=pd.DataFrame({'values':[1,2,3,4,5,6,7,8]})\n",
    "# print(df['values'].mean())\n",
    "# print(df['values'].median())\n",
    "# print(df['values'].std())\n"
   ]
  },
  {
   "cell_type": "code",
   "execution_count": 202,
   "id": "2c6d3a75",
   "metadata": {},
   "outputs": [
    {
     "data": {
      "text/html": [
       "<div>\n",
       "<style scoped>\n",
       "    .dataframe tbody tr th:only-of-type {\n",
       "        vertical-align: middle;\n",
       "    }\n",
       "\n",
       "    .dataframe tbody tr th {\n",
       "        vertical-align: top;\n",
       "    }\n",
       "\n",
       "    .dataframe thead th {\n",
       "        text-align: right;\n",
       "    }\n",
       "</style>\n",
       "<table border=\"1\" class=\"dataframe\">\n",
       "  <thead>\n",
       "    <tr style=\"text-align: right;\">\n",
       "      <th></th>\n",
       "      <th>date</th>\n",
       "      <th>day</th>\n",
       "    </tr>\n",
       "  </thead>\n",
       "  <tbody>\n",
       "    <tr>\n",
       "      <th>0</th>\n",
       "      <td>2023-01-01</td>\n",
       "      <td>sunday</td>\n",
       "    </tr>\n",
       "    <tr>\n",
       "      <th>1</th>\n",
       "      <td>2023-01-02</td>\n",
       "      <td>monday</td>\n",
       "    </tr>\n",
       "    <tr>\n",
       "      <th>2</th>\n",
       "      <td>2023-01-03</td>\n",
       "      <td>tuesday</td>\n",
       "    </tr>\n",
       "    <tr>\n",
       "      <th>3</th>\n",
       "      <td>2023-01-04</td>\n",
       "      <td>wednesday</td>\n",
       "    </tr>\n",
       "    <tr>\n",
       "      <th>4</th>\n",
       "      <td>2023-01-05</td>\n",
       "      <td>thursday</td>\n",
       "    </tr>\n",
       "  </tbody>\n",
       "</table>\n",
       "</div>"
      ],
      "text/plain": [
       "        date        day\n",
       "0 2023-01-01     sunday\n",
       "1 2023-01-02     monday\n",
       "2 2023-01-03    tuesday\n",
       "3 2023-01-04  wednesday\n",
       "4 2023-01-05   thursday"
      ]
     },
     "execution_count": 202,
     "metadata": {},
     "output_type": "execute_result"
    }
   ],
   "source": [
    "# q10\n",
    "\n",
    "# date=pd.date_range(start='2023-01-01',end='2023-01-05')\n",
    "# d=pd.DataFrame({'date':list(date)})\n",
    "# def datename(x):\n",
    "#     l=['monday','tuesday','wednesday','thursday','friday','saturday','sunday']\n",
    "#     return l[x]\n",
    "# d['day']=d['date'].dt.weekday.apply(datename)\n",
    "# d"
   ]
  },
  {
   "cell_type": "code",
   "execution_count": 233,
   "id": "4e68746e",
   "metadata": {},
   "outputs": [
    {
     "data": {
      "text/plain": [
       "366   2023-01-02\n",
       "367   2023-01-03\n",
       "368   2023-01-04\n",
       "369   2023-01-05\n",
       "370   2023-01-06\n",
       "371   2023-01-07\n",
       "372   2023-01-08\n",
       "373   2023-01-09\n",
       "374   2023-01-10\n",
       "375   2023-01-11\n",
       "376   2023-01-12\n",
       "377   2023-01-13\n",
       "378   2023-01-14\n",
       "379   2023-01-15\n",
       "380   2023-01-16\n",
       "381   2023-01-17\n",
       "382   2023-01-18\n",
       "383   2023-01-19\n",
       "384   2023-01-20\n",
       "385   2023-01-21\n",
       "386   2023-01-22\n",
       "387   2023-01-23\n",
       "388   2023-01-24\n",
       "389   2023-01-25\n",
       "390   2023-01-26\n",
       "391   2023-01-27\n",
       "392   2023-01-28\n",
       "393   2023-01-29\n",
       "394   2023-01-30\n",
       "Name: date, dtype: datetime64[ns]"
      ]
     },
     "execution_count": 233,
     "metadata": {},
     "output_type": "execute_result"
    }
   ],
   "source": [
    "# q11\n",
    "# date=pd.date_range(start='2022-01-01',end='2024-01-05')\n",
    "# d=pd.DataFrame({'date':list(date)})\n",
    "# d['date'][(d['date'].dt.month==1) & (d['date'].dt.year==2023) & (d['date'].dt.day>1) & (d['date'].dt.day<31)]\n"
   ]
  },
  {
   "cell_type": "code",
   "execution_count": null,
   "id": "ebf3f860",
   "metadata": {},
   "outputs": [],
   "source": [
    "# q12\n",
    "# pandas\n"
   ]
  },
  {
   "cell_type": "code",
   "execution_count": null,
   "id": "c5271a93",
   "metadata": {},
   "outputs": [],
   "source": []
  },
  {
   "cell_type": "code",
   "execution_count": null,
   "id": "af69bd2f",
   "metadata": {},
   "outputs": [],
   "source": []
  },
  {
   "cell_type": "code",
   "execution_count": null,
   "id": "fb250e74",
   "metadata": {},
   "outputs": [],
   "source": []
  },
  {
   "cell_type": "code",
   "execution_count": null,
   "id": "799eced7",
   "metadata": {},
   "outputs": [],
   "source": []
  },
  {
   "cell_type": "code",
   "execution_count": null,
   "id": "abd7dd3d",
   "metadata": {},
   "outputs": [],
   "source": []
  },
  {
   "cell_type": "code",
   "execution_count": null,
   "id": "1a94d0e1",
   "metadata": {},
   "outputs": [],
   "source": []
  },
  {
   "cell_type": "code",
   "execution_count": null,
   "id": "e498dff5",
   "metadata": {},
   "outputs": [],
   "source": []
  },
  {
   "cell_type": "code",
   "execution_count": null,
   "id": "f44262bd",
   "metadata": {},
   "outputs": [],
   "source": []
  },
  {
   "cell_type": "code",
   "execution_count": null,
   "id": "261ec451",
   "metadata": {},
   "outputs": [],
   "source": []
  },
  {
   "cell_type": "code",
   "execution_count": null,
   "id": "4d677076",
   "metadata": {},
   "outputs": [],
   "source": []
  },
  {
   "cell_type": "code",
   "execution_count": null,
   "id": "ee242db4",
   "metadata": {},
   "outputs": [],
   "source": []
  }
 ],
 "metadata": {
  "kernelspec": {
   "display_name": "Python 3 (ipykernel)",
   "language": "python",
   "name": "python3"
  },
  "language_info": {
   "codemirror_mode": {
    "name": "ipython",
    "version": 3
   },
   "file_extension": ".py",
   "mimetype": "text/x-python",
   "name": "python",
   "nbconvert_exporter": "python",
   "pygments_lexer": "ipython3",
   "version": "3.11.4"
  }
 },
 "nbformat": 4,
 "nbformat_minor": 5
}
