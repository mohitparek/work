{
  "nbformat": 4,
  "nbformat_minor": 0,
  "metadata": {
    "colab": {
      "provenance": []
    },
    "kernelspec": {
      "name": "python3",
      "display_name": "Python 3"
    },
    "language_info": {
      "name": "python"
    }
  },
  "cells": [
    {
      "cell_type": "code",
      "source": [
        "# Q1\n",
        "# a) Artificial Intelligence:\n",
        "# Explanation: Artificial Intelligence (AI) is a broad field of computer science that focuses on creating systems and machines that can perform tasks\n",
        "# that typically require human intelligence. These tasks include problem-solving, decision-making, understanding natural language, and recognizing patterns.\n",
        "# Example: One example of AI is a virtual personal assistant like Siri or Alexa, which can answer questions, set reminders, and perform tasks based\n",
        "# on voice commands.\n",
        "\n",
        "# b) Machine Learning:\n",
        "# Explanation: Machine Learning is a subset of AI that involves developing algorithms and models that allow computers to learn from data\n",
        "# and make predictions or decisions without being explicitly programmed. It's all about teaching machines to improve their performance over time\n",
        "# through experience.\n",
        "# Example: In the field of finance, machine learning algorithms can be used to predict stock prices by analyzing historical market data and\n",
        "# identifying patterns that indicate future price movements.\n",
        "\n",
        "# c) Deep Learning:\n",
        "# Explanation: Deep Learning is a subfield of machine learning that focuses on neural networks with multiple layers (deep neural networks).\n",
        "# It has been particularly successful in tasks involving large amounts of data, such as image and speech recognition. Deep learning models are capable\n",
        "# of automatically extracting complex features from data.\n",
        "# Example: A common application of deep learning is in image recognition. Deep neural networks can be trained to recognize objects\n",
        "# and features within images, enabling applications like facial recognition in social media or medical image analysis in healthcare.\n",
        "\n"
      ],
      "metadata": {
        "id": "NWgGMNkMnbD7"
      },
      "execution_count": 2,
      "outputs": []
    },
    {
      "cell_type": "code",
      "source": [
        "# Q2\n",
        "# Supervised learning is a type of machine learning where an algorithm learns from labeled data.\n",
        "# example:\n",
        "# Image Classification:\n",
        "# Given a dataset of images, each labeled with a specific object or category, a supervised learning\n",
        "# algorithm can learn to classify new, unlabeled images into these categories."
      ],
      "metadata": {
        "id": "rB1yKI1qnbHr"
      },
      "execution_count": null,
      "outputs": []
    },
    {
      "cell_type": "code",
      "source": [
        "# Q3\n",
        "# Unsupervised learning is a type of machine learning where the algorithm learns from unlabeled data or data with minimal supervision.\n",
        "# example:\n",
        "# Market Basket Analysis: In retail, unsupervised learning can analyze transaction data to discover associations between products that are\n",
        "# frequently purchased together, aiding in product placement and marketing strategies."
      ],
      "metadata": {
        "id": "SJ3qwpucnbKm"
      },
      "execution_count": null,
      "outputs": []
    },
    {
      "cell_type": "code",
      "source": [
        "# Q4\n",
        "# AI is the overarching goal of creating intelligent machines.\n",
        "# ML is a subset of AI that involves teaching machines to learn from data.\n",
        "# DL is a specialized form of ML that uses deep neural networks for complex tasks.\n",
        "# DS is a field that encompasses the entire data analysis process, including ML and DL, to gain insights and solve problems using data"
      ],
      "metadata": {
        "id": "8nSRHRf7nbNx"
      },
      "execution_count": null,
      "outputs": []
    },
    {
      "cell_type": "code",
      "source": [
        "# Q5\n",
        "# 1.supervised learning: uses labeled data to learn from explicit examples\n",
        "# 2.unsupervised learning: explores data to find hidden patterns without labels\n",
        "# 3.semi-supervised learning combines both labeled and unlabeled data to benefit from the advantages of both approaches"
      ],
      "metadata": {
        "id": "SSFUGdtqnbRB"
      },
      "execution_count": null,
      "outputs": []
    },
    {
      "cell_type": "code",
      "source": [
        "# Q6\n",
        "# 1.Training Set Importance: The training set is the foundation for building the machine learning model. It is where the model learns to make\n",
        "# predictions or classifications based on the provided data. A well-structured and diverse training set is crucial for a model to generalize\n",
        "# effectively.\n",
        "\n",
        "# 2.Validation Set Importance: The validation set plays a crucial role in model development. It helps in the selection of hyperparameters,\n",
        "# such as the model's architecture and regularization settings, ensuring that the model performs optimally and avoids overfitting.\n",
        "\n",
        "# 3.Test Set Importance: The test set serves as the final evaluation of the model's performance. It provides an unbiased assessment of how\n",
        "# well the model is expected to perform on new, unseen data. Without a separate test set, it would be challenging to determine if the\n",
        "# model can generalize beyond the training and validation data."
      ],
      "metadata": {
        "id": "GeTaMIHCnbUD"
      },
      "execution_count": null,
      "outputs": []
    },
    {
      "cell_type": "code",
      "source": [
        "# Q7\n",
        "# Unsupervised learning is employed in anomaly detection by allowing algorithms to discover unusual patterns or outliers within data without prior\n",
        "# labeling. The technique involves modeling the normal behavior of a system using clustering, density estimation, or dimensionality reduction methods.\n",
        "# Data points that deviate significantly from this learned pattern are identified as anomalies."
      ],
      "metadata": {
        "id": "thsKnBLrnbXJ"
      },
      "execution_count": null,
      "outputs": []
    },
    {
      "cell_type": "code",
      "source": [
        "# Q8\n",
        "# K-Nearest Neighbors (K-NN): Classifies data points based on the majority class among their nearest neighbors\n",
        "# Linear Regression: Used for predicting a continuous target variable based on one or more input features.\n",
        "# Logistic Regression: Applied to binary classification problems, where the goal is to predict one of two classes"
      ],
      "metadata": {
        "id": "XeLfpl48nbZ5"
      },
      "execution_count": null,
      "outputs": []
    },
    {
      "cell_type": "code",
      "source": [],
      "metadata": {
        "id": "zCoraFFGnbc9"
      },
      "execution_count": null,
      "outputs": []
    },
    {
      "cell_type": "code",
      "source": [],
      "metadata": {
        "id": "qwKFA6uYnbgI"
      },
      "execution_count": null,
      "outputs": []
    }
  ]
}