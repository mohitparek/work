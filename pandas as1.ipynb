{
 "cells": [
  {
   "cell_type": "code",
   "execution_count": 2,
   "id": "bd7a811e",
   "metadata": {},
   "outputs": [
    {
     "name": "stdout",
     "output_type": "stream",
     "text": [
      "a     4\n",
      "b     8\n",
      "c    15\n",
      "d    16\n",
      "e    23\n",
      "f    42\n",
      "dtype: int64\n"
     ]
    }
   ],
   "source": [
    "# q1\n",
    "import pandas as pd\n",
    "l=[4, 8, 15, 16, 23,42]\n",
    "s=pd.Series(l,index=['a','b','c','d','e','f'])\n",
    "print(s)\n"
   ]
  },
  {
   "cell_type": "code",
   "execution_count": 4,
   "id": "fc952d64",
   "metadata": {},
   "outputs": [
    {
     "data": {
      "text/plain": [
       "0     4\n",
       "1     8\n",
       "2    15\n",
       "3    16\n",
       "4    23\n",
       "5    42\n",
       "6     2\n",
       "7     3\n",
       "8     6\n",
       "9     1\n",
       "dtype: int64"
      ]
     },
     "execution_count": 4,
     "metadata": {},
     "output_type": "execute_result"
    }
   ],
   "source": [
    "# q2\n",
    "l=[4, 8, 15, 16, 23,42,2,3,6,1]\n",
    "s=pd.Series(l)\n",
    "s\n",
    "\n"
   ]
  },
  {
   "cell_type": "code",
   "execution_count": 5,
   "id": "b017449a",
   "metadata": {},
   "outputs": [
    {
     "name": "stdout",
     "output_type": "stream",
     "text": [
      "     Name  Age  Gender\n",
      "0   Alice   25  Female\n",
      "1     Bob   30    Male\n",
      "2  Claire   27  Female\n"
     ]
    }
   ],
   "source": [
    "# q3\n",
    "s=pd.DataFrame({'Name':['Alice','Bob','Claire'],'Age':[25,30,27],'Gender':['Female','Male','Female']})\n",
    "print(s)"
   ]
  },
  {
   "cell_type": "code",
   "execution_count": null,
   "id": "f6c725ef",
   "metadata": {},
   "outputs": [],
   "source": [
    "# Q4\n",
    "# a Pandas Series is a 1D array of data, but a single-column DataFrame is a 2D table with one column.\n",
    "# The main distinction between the two is this.For a single-column DataFrame, an index can be optional,\n",
    "# but a Series has to have an index defined.\n",
    "# example:\n",
    "#     series:\n",
    "        \n",
    "l=[4, 8, 15, 16, 23,42,2,3,6,1]\n",
    "s=pd.Series(l)\n",
    "\n",
    "#     dataframe:\n",
    "        \n",
    "s=pd.DataFrame({'Name':['Alice','Bob','Claire'],'Age':[25,30,27],'Gender':['Female','Male','Female']})\n",
    "\n",
    "    "
   ]
  },
  {
   "cell_type": "code",
   "execution_count": null,
   "id": "d0431044",
   "metadata": {},
   "outputs": [],
   "source": [
    "# Q5\n",
    "# Filtering Data:\n",
    "filtered_df = df[df['age'] > 30]\n",
    "    \n",
    "# Adding and Removing Columns:\n",
    "df['discounted_price'] = df['price'] * 0.9\n",
    "    \n",
    "# Applying Functions to Columns:\n",
    "df['temperature_fahrenheit'] = df['temperature'].apply(lambda celsius: celsius * 9/5 + 32)\n",
    "\n",
    "    "
   ]
  },
  {
   "cell_type": "code",
   "execution_count": null,
   "id": "ec76c804",
   "metadata": {},
   "outputs": [],
   "source": [
    "# Q6\n",
    "# Series and DataFrame are mutable in nature, while Panel is not recommended \n",
    "# for use and is no longer a primary data structure in the latest versions of Pandas."
   ]
  },
  {
   "cell_type": "code",
   "execution_count": 6,
   "id": "f0771b93",
   "metadata": {},
   "outputs": [
    {
     "name": "stdout",
     "output_type": "stream",
     "text": [
      "      Name  Age Grade\n",
      "0    Alice   25     A\n",
      "1      Bob   22     B\n",
      "2  Charlie   24     B\n",
      "3    David   23     C\n"
     ]
    }
   ],
   "source": [
    "# Q7\n",
    "import pandas as pd\n",
    "\n",
    "# Creating individual Series\n",
    "names = pd.Series(['Alice', 'Bob', 'Charlie', 'David'])\n",
    "ages = pd.Series([25, 22, 24, 23])\n",
    "grades = pd.Series(['A', 'B', 'B', 'C'])\n",
    "\n",
    "# Creating a DataFrame using the Series\n",
    "data = {'Name': names, 'Age': ages, 'Grade': grades}\n",
    "df = pd.DataFrame(data)\n",
    "\n",
    "# Display the DataFrame\n",
    "print(df)\n"
   ]
  },
  {
   "cell_type": "code",
   "execution_count": null,
   "id": "bfdc9563",
   "metadata": {},
   "outputs": [],
   "source": []
  },
  {
   "cell_type": "code",
   "execution_count": null,
   "id": "85c86326",
   "metadata": {},
   "outputs": [],
   "source": []
  },
  {
   "cell_type": "code",
   "execution_count": null,
   "id": "217092a6",
   "metadata": {},
   "outputs": [],
   "source": []
  },
  {
   "cell_type": "code",
   "execution_count": null,
   "id": "300c3bf2",
   "metadata": {},
   "outputs": [],
   "source": []
  },
  {
   "cell_type": "code",
   "execution_count": null,
   "id": "a0df7c23",
   "metadata": {},
   "outputs": [],
   "source": []
  },
  {
   "cell_type": "code",
   "execution_count": null,
   "id": "79c893d5",
   "metadata": {},
   "outputs": [],
   "source": []
  },
  {
   "cell_type": "code",
   "execution_count": null,
   "id": "632a8ed2",
   "metadata": {},
   "outputs": [],
   "source": []
  },
  {
   "cell_type": "code",
   "execution_count": null,
   "id": "aab14c8d",
   "metadata": {},
   "outputs": [],
   "source": []
  }
 ],
 "metadata": {
  "kernelspec": {
   "display_name": "Python 3 (ipykernel)",
   "language": "python",
   "name": "python3"
  },
  "language_info": {
   "codemirror_mode": {
    "name": "ipython",
    "version": 3
   },
   "file_extension": ".py",
   "mimetype": "text/x-python",
   "name": "python",
   "nbconvert_exporter": "python",
   "pygments_lexer": "ipython3",
   "version": "3.11.4"
  }
 },
 "nbformat": 4,
 "nbformat_minor": 5
}
